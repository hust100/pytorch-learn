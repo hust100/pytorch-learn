{
 "cells": [
  {
   "cell_type": "code",
   "execution_count": 13,
   "metadata": {},
   "outputs": [],
   "source": [
    "import torch\n",
    "from torch import nn,optim\n",
    "import numpy as np\n",
    "import matplotlib.pyplot as plt\n",
    "%matplotlib inline"
   ]
  },
  {
   "cell_type": "code",
   "execution_count": 14,
   "metadata": {},
   "outputs": [],
   "source": [
    "x_train=np.array([[3.3],[4.4],[5.5],[6.71],[6.93],[4.168],\n",
    "                    [9.779],[6.182],[7.59],[2.167],[7.042],\n",
    "                    [10.791],[5.313],[7.997],[3.1]],dtype=np.float32)\n",
    "\n",
    "y_train = np.array([[1.7],[2.76],[2.09],[3.19],[1.694],[1.573],\n",
    "                    [3.366],[2.596],[2.53],[1.221],[2.827],\n",
    "                    [3.465],[1.65],[2.904],[1.3]],dtype=np.float32)\n",
    "x_train=torch.from_numpy(x_train)\n",
    "y_train=torch.from_numpy(y_train)"
   ]
  },
  {
   "cell_type": "code",
   "execution_count": 5,
   "metadata": {},
   "outputs": [],
   "source": [
    "class linearr(nn.Module):\n",
    "    def __init__(self):\n",
    "        super(linearr,self).__init__()\n",
    "        self.linear=nn.Linear(1,1) #1维的输入输出\n",
    "    def forward(self,x):\n",
    "        out=self.linear(x)\n",
    "        return out\n",
    "model=linearr()\n",
    "criterion=nn.MSELoss()\n",
    "opt=optim.SGD(model.parameters(),lr=1e-4)"
   ]
  },
  {
   "cell_type": "code",
   "execution_count": 9,
   "metadata": {},
   "outputs": [
    {
     "name": "stdout",
     "output_type": "stream",
     "text": [
      "epoch[20/1000],loss:12.389167\n",
      "epoch[40/1000],loss:8.907628\n",
      "epoch[60/1000],loss:6.446966\n",
      "epoch[80/1000],loss:4.707801\n",
      "epoch[100/1000],loss:3.478550\n",
      "epoch[120/1000],loss:2.609679\n",
      "epoch[140/1000],loss:1.995506\n",
      "epoch[160/1000],loss:1.561336\n",
      "epoch[180/1000],loss:1.254386\n",
      "epoch[200/1000],loss:1.037346\n",
      "epoch[220/1000],loss:0.883851\n",
      "epoch[240/1000],loss:0.775265\n",
      "epoch[260/1000],loss:0.698418\n",
      "epoch[280/1000],loss:0.644004\n",
      "epoch[300/1000],loss:0.605443\n",
      "epoch[320/1000],loss:0.578087\n",
      "epoch[340/1000],loss:0.558650\n",
      "epoch[360/1000],loss:0.544810\n",
      "epoch[380/1000],loss:0.534925\n",
      "epoch[400/1000],loss:0.527836\n",
      "epoch[420/1000],loss:0.522723\n",
      "epoch[440/1000],loss:0.519006\n",
      "epoch[460/1000],loss:0.516277\n",
      "epoch[480/1000],loss:0.514246\n",
      "epoch[500/1000],loss:0.512707\n",
      "epoch[520/1000],loss:0.511518\n",
      "epoch[540/1000],loss:0.510575\n",
      "epoch[560/1000],loss:0.509806\n",
      "epoch[580/1000],loss:0.509161\n",
      "epoch[600/1000],loss:0.508603\n",
      "epoch[620/1000],loss:0.508106\n",
      "epoch[640/1000],loss:0.507654\n",
      "epoch[660/1000],loss:0.507232\n",
      "epoch[680/1000],loss:0.506833\n",
      "epoch[700/1000],loss:0.506449\n",
      "epoch[720/1000],loss:0.506077\n",
      "epoch[740/1000],loss:0.505712\n",
      "epoch[760/1000],loss:0.505353\n",
      "epoch[780/1000],loss:0.504999\n",
      "epoch[800/1000],loss:0.504647\n",
      "epoch[820/1000],loss:0.504298\n",
      "epoch[840/1000],loss:0.503950\n",
      "epoch[860/1000],loss:0.503604\n",
      "epoch[880/1000],loss:0.503259\n",
      "epoch[900/1000],loss:0.502914\n",
      "epoch[920/1000],loss:0.502570\n",
      "epoch[940/1000],loss:0.502227\n",
      "epoch[960/1000],loss:0.501885\n",
      "epoch[980/1000],loss:0.501542\n",
      "epoch[1000/1000],loss:0.501201\n"
     ]
    },
    {
     "name": "stderr",
     "output_type": "stream",
     "text": [
      "D:\\anaconda\\lib\\site-packages\\ipykernel_launcher.py:13: UserWarning: invalid index of a 0-dim tensor. This will be an error in PyTorch 0.5. Use tensor.item() to convert a 0-dim tensor to a Python number\n",
      "  del sys.path[0]\n"
     ]
    }
   ],
   "source": [
    "num_epochs=1000\n",
    "for epoch in range(num_epochs):\n",
    "    inputs=x_train\n",
    "    target=y_train\n",
    "    \n",
    "    out=model(inputs)\n",
    "    loss=criterion(out,target)\n",
    "    \n",
    "    opt.zero_grad()  #每次迭代时须重置为0\n",
    "    loss.backward()  #计算梯度\n",
    "    opt.step()  #更新权重\n",
    "    if (epoch+1)%20==0:\n",
    "        print('epoch[{}/{}],loss:{:.6f}'.format(epoch+1,num_epochs,loss.data[0]))\n",
    "    "
   ]
  },
  {
   "cell_type": "code",
   "execution_count": 18,
   "metadata": {
    "scrolled": true
   },
   "outputs": [
    {
     "data": {
      "text/plain": [
       "[<matplotlib.lines.Line2D at 0x289c45ac518>]"
      ]
     },
     "execution_count": 18,
     "metadata": {},
     "output_type": "execute_result"
    },
    {
     "data": {
      "image/png": "[encoded data removed]",
      "text/plain": [
       "<matplotlib.figure.Figure at 0x289c45aca58>"
      ]
     },
     "metadata": {},
     "output_type": "display_data"
    }
   ],
   "source": [
    "model.eval() #一般在模型训练和评价的时候会加上这句，\n",
    "#主要是针对model 在训练时和评价时不同的 Batch Normalization  和  Dropout 方法模式\n",
    "pre=model(x_train)\n",
    "pre=pre.data.numpy()\n",
    "plt.plot(x_train.numpy(),y_train.numpy(),'ro')\n",
    "plt.plot(x_train.numpy(),pre)"
   ]
  },
  {
   "cell_type": "code",
   "execution_count": 25,
   "metadata": {},
   "outputs": [
    {
     "name": "stderr",
     "output_type": "stream",
     "text": [
      "D:\\anaconda\\lib\\site-packages\\torch\\serialization.py:193: UserWarning: Couldn't retrieve source code for container of type linearr. It won't be checked for correctness upon loading.\n",
      "  \"type \" + obj.__name__ + \". It won't be checked \"\n"
     ]
    }
   ],
   "source": [
    "torch.save(model,'ss')"
   ]
  },
  {
   "cell_type": "code",
   "execution_count": 26,
   "metadata": {},
   "outputs": [
    {
     "data": {
      "text/plain": [
       "linearr(\n",
       "  (linear): Linear(in_features=1, out_features=1, bias=True)\n",
       ")"
      ]
     },
     "execution_count": 26,
     "metadata": {},
     "output_type": "execute_result"
    }
   ],
   "source": [
    "torch.load('ss')"
   ]
  },
  {
   "cell_type": "code",
   "execution_count": null,
   "metadata": {},
   "outputs": [],
   "source": []
  }
 ],
 "metadata": {
  "kernelspec": {
   "display_name": "Python 3",
   "language": "python",
   "name": "python3"
  },
  "language_info": {
   "codemirror_mode": {
    "name": "ipython",
    "version": 3
   },
   "file_extension": ".py",
   "mimetype": "text/x-python",
   "name": "python",
   "nbconvert_exporter": "python",
   "pygments_lexer": "ipython3",
   "version": "3.6.4"
  },
  "toc": {
   "base_numbering": 1,
   "nav_menu": {},
   "number_sections": true,
   "sideBar": true,
   "skip_h1_title": false,
   "title_cell": "Table of Contents",
   "title_sidebar": "Contents",
   "toc_cell": false,
   "toc_position": {},
   "toc_section_display": true,
   "toc_window_display": false
  }
 },
 "nbformat": 4,
 "nbformat_minor": 2
}
